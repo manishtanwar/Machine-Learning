{
 "cells": [
  {
   "cell_type": "code",
   "execution_count": 404,
   "metadata": {},
   "outputs": [],
   "source": [
    "import numpy as np"
   ]
  },
  {
   "cell_type": "code",
   "execution_count": 405,
   "metadata": {},
   "outputs": [],
   "source": [
    "def train(X_in, Y, tau):\n",
    "\n",
    "    \"\"\"\n",
    "    Input :\n",
    "\n",
    "    Ouput :\n",
    "\n",
    "    \"\"\"\n",
    "\n",
    "    X_un = np.copy(X_in)\n",
    "#     X_in = (X_in - X_in.mean())/np.std(X_in)\n",
    "\n",
    "    n = 2\n",
    "    m = X_in.size\n",
    "\n",
    "    X = np.ones((m,n))\n",
    "    X[:,0] = X_in\n",
    "    Y_pred = np.zeros(m)\n",
    "    X_T = np.transpose(X)\n",
    "\n",
    "    for i in range(m):\n",
    "        W = np.diag(np.exp(-(np.square(X_in-X_in[i]))/(2.*tau*tau)))\n",
    "        W[i][i] = 0.\n",
    "        theta = np.matmul(np.linalg.inv(np.matmul(X_T, np.matmul(W, X))), np.matmul(X_T, np.matmul(W, Y)))\n",
    "#         print(theta.shape)\n",
    "#         print(type(theta),type(Y_pred[i]),type(X))\n",
    "#         print(theta.shape,X.shape)\n",
    "        Y_pred[i] = np.matmul(X[i],theta)\n",
    "#         if(X[i][0] > 2.5): \n",
    "            \n",
    "# #             print(X[i],theta,Y[i],Y_pred[i])\n",
    "# #             print(np.diag(W))\n",
    "#             print(X[i])\n",
    "#             A = np.matmul(np.matmul(X_T, W), X)\n",
    "#             print(A.shape)\n",
    "#             B = np.linalg.inv(A)\n",
    "#             np.set_printoptions(precision=3,suppress=True)\n",
    "#             print(A,B)\n",
    "#             np.set_printoptions(precision=3,suppress=True)\n",
    "#             C = np.matmul(A,B)\n",
    "#             print(C)\n",
    "#             print(np.matmul(A,B))\n",
    "    return Y_pred"
   ]
  },
  {
   "cell_type": "code",
   "execution_count": 406,
   "metadata": {},
   "outputs": [
    {
     "data": {
      "image/png": "[encoded data removed]",
      "text/plain": [
       "<Figure size 432x288 with 1 Axes>"
      ]
     },
     "metadata": {
      "needs_background": "light"
     },
     "output_type": "display_data"
    }
   ],
   "source": [
    "x_in = np.genfromtxt('ass1_data/weightedX.csv',delimiter=',')\n",
    "y_in = np.genfromtxt('ass1_data/weightedY.csv',delimiter=',')\n",
    "tau = 0.1\n",
    "y_pred = train(x_in, y_in, tau)\n",
    "# train(x_in, y_in, tau)\n",
    "# print(y_pred,y_in)\n",
    "# for i in range(x_in.size):\n",
    "#     print(x_in[i],y_pred[i],y_in[i])\n",
    "\n",
    "import matplotlib.pyplot as plt\n",
    "plt.plot(x_in,y_in,'ro',color='blue')\n",
    "plt.plot(x_in,y_pred,'ro',color='red')\n",
    "# plt.scatter(x,y,color='red')\n",
    "# plt.scatter(x,y1,color='blue')\n",
    "plt.show()"
   ]
  },
  {
   "cell_type": "code",
   "execution_count": 407,
   "metadata": {},
   "outputs": [
    {
     "name": "stdout",
     "output_type": "stream",
     "text": [
      "[[1.    4.35  1.   ]\n",
      " [4.375 1.    1.   ]\n",
      " [4.    1.    1.   ]]\n",
      "[[  0.      2.667  -2.667]\n",
      " [  0.299   2.388  -2.687]\n",
      " [ -0.299 -13.055  14.353]]\n",
      "[[1. 0. 0.]\n",
      " [0. 1. 0.]\n",
      " [0. 0. 1.]]\n"
     ]
    }
   ],
   "source": [
    "A1 = np.array([[1.,4.35,1.], [4.375, 1.,1.], [4., 1.,1.]])\n",
    "print(A1)\n",
    "B1 = np.linalg.inv(A1)\n",
    "print(B1)\n",
    "print(A1.dot(B1))"
   ]
  }
 ],
 "metadata": {
  "kernelspec": {
   "display_name": "Python 3",
   "language": "python",
   "name": "python3"
  },
  "language_info": {
   "codemirror_mode": {
    "name": "ipython",
    "version": 3
   },
   "file_extension": ".py",
   "mimetype": "text/x-python",
   "name": "python",
   "nbconvert_exporter": "python",
   "pygments_lexer": "ipython3",
   "version": "3.6.8"
  }
 },
 "nbformat": 4,
 "nbformat_minor": 2
}
