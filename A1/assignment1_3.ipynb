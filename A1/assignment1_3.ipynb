{
 "cells": [
  {
   "cell_type": "code",
   "execution_count": 70,
   "metadata": {},
   "outputs": [],
   "source": [
    "import numpy as np"
   ]
  },
  {
   "cell_type": "code",
   "execution_count": 71,
   "metadata": {},
   "outputs": [],
   "source": [
    "def train(X_in, Y):\n",
    "\n",
    "    \"\"\"\n",
    "    Input :\n",
    "\n",
    "    Ouput :\n",
    "\n",
    "    \"\"\"\n",
    "    n = 2\n",
    "    m = X_in.size\n",
    "    np.set_printoptions(precision=3,suppress=True)\n",
    "    X_un = np.copy(X_in)\n",
    "    \n",
    "    for i in range(2):\n",
    "        X_in[:,i] = (X_in[:,i] - X_in[:,i].mean())/np.std(X_in[:,i])\n",
    "#     print(X_un,X_in)\n",
    "\n",
    "#     X = np.ones((m,n))\n",
    "#     X[:,0] = X_in\n",
    "#     Y_pred = np.zeros(m)\n",
    "#     X_T = np.transpose(X)\n",
    "\n",
    "#     for i in range(m):\n",
    "#         W = np.diag(np.exp(-(np.square(X_in-X_in[i]))/(2.*tau*tau)))\n",
    "#         W[i][i] = 0.\n",
    "#         theta = np.matmul(np.linalg.inv(np.matmul(X_T, np.matmul(W, X))), np.matmul(X_T, np.matmul(W, Y)))\n",
    "# #         print(theta.shape)\n",
    "# #         print(type(theta),type(Y_pred[i]),type(X))\n",
    "# #         print(theta.shape,X.shape)\n",
    "#         Y_pred[i] = np.matmul(X[i],theta)\n",
    "# #         if(X[i][0] > 2.5): \n",
    "            \n",
    "# # #             print(X[i],theta,Y[i],Y_pred[i])\n",
    "# # #             print(np.diag(W))\n",
    "# #             print(X[i])\n",
    "# #             A = np.matmul(np.matmul(X_T, W), X)\n",
    "# #             print(A.shape)\n",
    "# #             B = np.linalg.inv(A)\n",
    "# #             np.set_printoptions(precision=3,suppress=True)\n",
    "# #             print(A,B)\n",
    "# #             np.set_printoptions(precision=3,suppress=True)\n",
    "# #             C = np.matmul(A,B)\n",
    "# #             print(C)\n",
    "# #             print(np.matmul(A,B))\n",
    "#     return Y_pred"
   ]
  },
  {
   "cell_type": "code",
   "execution_count": 72,
   "metadata": {},
   "outputs": [
    {
     "name": "stdout",
     "output_type": "stream",
     "text": [
      "(100, 2) (100,)\n",
      "1.0\n"
     ]
    }
   ],
   "source": [
    "x_in = np.genfromtxt('ass1_data/logisticX.csv',delimiter=',')\n",
    "y_in = np.genfromtxt('ass1_data/logisticY.csv',delimiter=',')\n",
    "\n",
    "print(x_in.shape, y_in.shape)\n",
    "train(x_in, y_in)\n",
    "# y_pred = train(x_in, y_in)\n",
    "# print(y_pred,y_in)\n",
    "# for i in range(x_in.size):\n",
    "#     print(x_in[i],y_pred[i],y_in[i])\n",
    "\n",
    "# import matplotlib.pyplot as plt\n",
    "# plt.plot(x_in,y_in,'ro',color='blue')\n",
    "# plt.plot(x_in,y_pred,'ro',color='red')\n",
    "# # plt.scatter(x,y,color='red')\n",
    "# # plt.scatter(x,y1,color='blue')\n",
    "# plt.show()"
   ]
  },
  {
   "cell_type": "code",
   "execution_count": null,
   "metadata": {},
   "outputs": [],
   "source": []
  }
 ],
 "metadata": {
  "kernelspec": {
   "display_name": "Python 3",
   "language": "python",
   "name": "python3"
  },
  "language_info": {
   "codemirror_mode": {
    "name": "ipython",
    "version": 3
   },
   "file_extension": ".py",
   "mimetype": "text/x-python",
   "name": "python",
   "nbconvert_exporter": "python",
   "pygments_lexer": "ipython3",
   "version": "3.6.8"
  }
 },
 "nbformat": 4,
 "nbformat_minor": 2
}
