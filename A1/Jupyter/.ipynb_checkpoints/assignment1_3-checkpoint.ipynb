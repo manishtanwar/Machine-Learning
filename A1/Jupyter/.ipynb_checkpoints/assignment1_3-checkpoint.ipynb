{
 "cells": [
  {
   "cell_type": "code",
   "execution_count": 404,
   "metadata": {},
   "outputs": [],
   "source": [
    "import numpy as np\n",
    "import math"
   ]
  },
  {
   "cell_type": "code",
   "execution_count": 405,
   "metadata": {},
   "outputs": [],
   "source": [
    "def sigmoid(x):\n",
    "    return 1 / (1 + np.exp(-x))"
   ]
  },
  {
   "cell_type": "code",
   "execution_count": 406,
   "metadata": {},
   "outputs": [],
   "source": [
    "def train(X_in, Y):\n",
    "\n",
    "    \"\"\"\n",
    "    Input :\n",
    "\n",
    "    Ouput :\n",
    "\n",
    "    \"\"\"\n",
    "    n = X_in.shape[1] + 1\n",
    "    m = X_in.shape[0]\n",
    "    \n",
    "    np.set_printoptions(precision=3,suppress=True)\n",
    "    \n",
    "    X = np.ones((m,n))\n",
    "    mean = np.zeros(m)\n",
    "    std = np.zeros(m)\n",
    "    for i in range(n-1):\n",
    "        mean[i] = X_in[:,i].mean()\n",
    "        std[i]  = np.std(X_in[:,i])\n",
    "        X[:,i] = (X_in[:,i] - mean[i])/std[i]\n",
    "\n",
    "    X_T = np.transpose(X)\n",
    "    theta = np.zeros(n)\n",
    "#     print(X,X_T)\n",
    "    \n",
    "#     theta_(t+1) = theta_(t) - inv(H)*grad(LL(theta_t))\n",
    "\n",
    "#     grad(LL(theta_t)) = X_T * (y - g(X*theta_t))\n",
    "#     let pi(i) = g(x(i)_T * theta_t)\n",
    "#     W = diag(pi(i) * (1-pi(i)))\n",
    "#     H = - X_T * W * X\n",
    "    \n",
    "    iter = 0\n",
    "    sig = 0\n",
    "    while(True):\n",
    "        iter+=1\n",
    "        sig = sigmoid(np.matmul(X,theta))\n",
    "        W = np.diag(np.multiply(sig, 1-sig))\n",
    "        grad_LL = np.matmul(X_T, Y-sig)\n",
    "        H = -np.matmul(X_T, np.matmul(W, X))\n",
    "        change_amt = -np.matmul(np.linalg.inv(H), grad_LL)\n",
    "        \n",
    "        theta = theta + change_amt\n",
    "        \n",
    "        max_change = abs(max(change_amt, key=abs))\n",
    "        \n",
    "        if(max_change < 1e-8):\n",
    "            break;\n",
    "\n",
    "    print(iter)\n",
    "    y_pred = np.zeros(m)\n",
    "    for i in range(m):\n",
    "        y_pred[i] = 0 if sig[i] < 0.5 else 1\n",
    "    \n",
    "#     from mpl_toolkits.mplot3d import Axes3D\n",
    "#     import matplotlib.pyplot as plt \n",
    "#     fig = plt.figure()\n",
    "#     ax = fig.add_subplot(111, projection='3d')\n",
    "#     fg = np.zeros(m)\n",
    "#     ax.scatter(X[:,0],X[:,1],fg,c=y_pred)\n",
    "#     plt.show()\n",
    "\n",
    "    theta_req = np.zeros(n)\n",
    "    theta_req[0] = theta[0] / std[0]\n",
    "    theta_req[1] = theta[1] / std[1]\n",
    "    theta_req[2] = theta[2] - (theta[0]*mean[0])/std[0] - (theta[1]*mean[1])/std[1]\n",
    "    \n",
    "    import matplotlib.pyplot as plt\n",
    "    \n",
    "#     ((X1_boundary-mean[1])/std[1])*theta[1] + ((X_in[:,0] - mean[0])/std[0])*theta[0] + theta[2] = 0;\n",
    "#     X1_boundary = mean[1] + (((-((X_in[:,0] - mean[0])/std[0])*theta[0] - theta[2]) * std[1]) / theta[1])\n",
    "    X1_boundary = (-(theta_req[0]/theta_req[1]) * X_in[:,0]) - (theta_req[2] / theta_req[1])\n",
    "    \n",
    "    \n",
    "    plt.scatter(X_in[:,0],X_in[:,1],c=y_in)\n",
    "    plt.plot(X_in[:,0],X1_boundary,color='red')\n",
    "    \n",
    "    return y_pred"
   ]
  },
  {
   "cell_type": "code",
   "execution_count": 407,
   "metadata": {},
   "outputs": [
    {
     "name": "stdout",
     "output_type": "stream",
     "text": [
      "(3,)\n",
      "8\n"
     ]
    },
    {
     "data": {
      "image/png": "[encoded data removed]",
      "text/plain": [
       "<Figure size 432x288 with 1 Axes>"
      ]
     },
     "metadata": {
      "needs_background": "light"
     },
     "output_type": "display_data"
    }
   ],
   "source": [
    "x_in = np.genfromtxt('../ass1_data/logisticX.csv',delimiter=',')\n",
    "y_in = np.genfromtxt('../ass1_data/logisticY.csv',delimiter=',')\n",
    "\n",
    "# print(x_in.shape, y_in.shape)\n",
    "# train(x_in, y_in)\n",
    "y_pred = train(x_in, y_in)\n",
    "\n",
    "# print(y_pred,y_in)\n",
    "# for i in range(x_in.size):\n",
    "#     print(x_in[i],y_pred[i],y_in[i])\n",
    "\n",
    "# import matplotlib.pyplot as plt\n",
    "# plt.plot(x_in,y_in,'ro',color='blue')\n",
    "# plt.plot(x_in,y_pred,'ro',color='red')\n",
    "# # plt.scatter(x,y,color='red')\n",
    "# # plt.scatter(x,y1,color='blue')\n",
    "# plt.show()"
   ]
  },
  {
   "cell_type": "code",
   "execution_count": null,
   "metadata": {},
   "outputs": [],
   "source": []
  }
 ],
 "metadata": {
  "kernelspec": {
   "display_name": "Python 3",
   "language": "python",
   "name": "python3"
  },
  "language_info": {
   "codemirror_mode": {
    "name": "ipython",
    "version": 3
   },
   "file_extension": ".py",
   "mimetype": "text/x-python",
   "name": "python",
   "nbconvert_exporter": "python",
   "pygments_lexer": "ipython3",
   "version": "3.6.8"
  }
 },
 "nbformat": 4,
 "nbformat_minor": 2
}
