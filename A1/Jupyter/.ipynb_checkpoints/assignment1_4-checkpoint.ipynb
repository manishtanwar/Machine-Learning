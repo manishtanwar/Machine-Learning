{
 "cells": [
  {
   "cell_type": "code",
   "execution_count": 221,
   "metadata": {},
   "outputs": [],
   "source": [
    "import numpy as np"
   ]
  },
  {
   "cell_type": "code",
   "execution_count": 222,
   "metadata": {},
   "outputs": [],
   "source": [
    "def train(X_in, Y):\n",
    "\n",
    "    \"\"\"\n",
    "    Input :\n",
    "\n",
    "    Ouput :\n",
    "\n",
    "    \"\"\"\n",
    "\n",
    "    n = X_in.shape[1]\n",
    "    m = X_in.shape[0]\n",
    "    one_cnt = np.sum(Y)\n",
    "    \n",
    "    np.set_printoptions(precision=3,suppress=True)\n",
    "    \n",
    "    X = np.ones((m,n))\n",
    "    mean = np.zeros(m)\n",
    "    std = np.zeros(m)\n",
    "    for i in range(n):\n",
    "        mean[i] = X_in[:,i].mean()\n",
    "        std[i]  = np.std(X_in[:,i])\n",
    "        X[:,i] = (X_in[:,i] - mean[i])/std[i]\n",
    "\n",
    "    X_T = np.transpose(X)\n",
    "    theta = np.zeros(n)\n",
    "    \n",
    "    m0 = np.zeros((1,n))\n",
    "    m1 = np.zeros((1,n))\n",
    "    sig = np.zeros((n,n))\n",
    "    \n",
    "    \n",
    "    print(Y.shape)\n",
    "    Y1 = np.zeros((100,1))\n",
    "    Y1[:,0] = np.copy(Y)\n",
    "    print(Y.shape, Y1.shape)\n",
    "    \n",
    "    m0 = np.matmul((1-Y1).T, X) / (m - one_cnt)\n",
    "    m1 = np.matmul(Y1.T, X) / one_cnt\n",
    "    print(X.shape, Y.shape)\n",
    "    print(m0.shape)\n",
    "    \n",
    "    for i in range(m):\n",
    "        cur = np.zeros([2,1])\n",
    "#         print(cur.shape)\n",
    "        cur = (X[i,:] - Y[i]*m1 - (1-Y[i])*m0)\n",
    "#         print(cur.shape)\n",
    "        sig += 1/m * np.matmul(cur.T, cur)\n",
    "    print(m0, m1, sig)\n",
    "    \n",
    "    import matplotlib.pyplot as plt\n",
    "    \n",
    "    sig_inv = np.linalg.inv(sig)\n",
    "    \n",
    "    coeff = 2 * (m0.T+m1.T).dot(sig_inv)\n",
    "    print(coeff.shape)\n",
    "    X = np.matmul(m1.T, np.matmul(sig_inv,m1)) - np.matmul(m0.T, np.matmul(sig_inv,m0))\n",
    "    \n",
    "    plt.scatter(X_in[:,0],X_in[:,1],c=Y)\n",
    "    plt.plot(X_in[:,0],X1_boundary,color='red')\n",
    "    plt.show()"
   ]
  },
  {
   "cell_type": "code",
   "execution_count": 223,
   "metadata": {},
   "outputs": [
    {
     "name": "stdout",
     "output_type": "stream",
     "text": [
      "(100,)\n",
      "(100,) (100, 1)\n",
      "(100, 2) (100,)\n",
      "(1, 2)\n",
      "[[-0.755  0.685]] [[ 0.755 -0.685]] [[ 0.43  -0.022]\n",
      " [-0.022  0.531]]\n"
     ]
    },
    {
     "ename": "ValueError",
     "evalue": "shapes (2,1) and (2,2) not aligned: 1 (dim 1) != 2 (dim 0)",
     "output_type": "error",
     "traceback": [
      "\u001b[0;31m---------------------------------------------------------------------------\u001b[0m",
      "\u001b[0;31mValueError\u001b[0m                                Traceback (most recent call last)",
      "\u001b[0;32m<ipython-input-223-a6133eeabb78>\u001b[0m in \u001b[0;36m<module>\u001b[0;34m\u001b[0m\n\u001b[1;32m      6\u001b[0m     \u001b[0my_in\u001b[0m\u001b[0;34m[\u001b[0m\u001b[0mi\u001b[0m\u001b[0;34m]\u001b[0m \u001b[0;34m=\u001b[0m \u001b[0;36m0\u001b[0m \u001b[0;32mif\u001b[0m \u001b[0my_in_label\u001b[0m\u001b[0;34m[\u001b[0m\u001b[0mi\u001b[0m\u001b[0;34m]\u001b[0m \u001b[0;34m==\u001b[0m \u001b[0;34m\"Alaska\"\u001b[0m \u001b[0;32melse\u001b[0m \u001b[0;36m1\u001b[0m\u001b[0;34m\u001b[0m\u001b[0;34m\u001b[0m\u001b[0m\n\u001b[1;32m      7\u001b[0m \u001b[0;34m\u001b[0m\u001b[0m\n\u001b[0;32m----> 8\u001b[0;31m \u001b[0mtrain\u001b[0m\u001b[0;34m(\u001b[0m\u001b[0mx_in\u001b[0m\u001b[0;34m,\u001b[0m \u001b[0my_in\u001b[0m\u001b[0;34m)\u001b[0m\u001b[0;34m\u001b[0m\u001b[0;34m\u001b[0m\u001b[0m\n\u001b[0m\u001b[1;32m      9\u001b[0m \u001b[0;34m\u001b[0m\u001b[0m\n\u001b[1;32m     10\u001b[0m \u001b[0;31m# print(x_in.shape, y_in.shape)\u001b[0m\u001b[0;34m\u001b[0m\u001b[0;34m\u001b[0m\u001b[0;34m\u001b[0m\u001b[0m\n",
      "\u001b[0;32m<ipython-input-222-409605df6b27>\u001b[0m in \u001b[0;36mtrain\u001b[0;34m(X_in, Y)\u001b[0m\n\u001b[1;32m     52\u001b[0m     \u001b[0msig_inv\u001b[0m \u001b[0;34m=\u001b[0m \u001b[0mnp\u001b[0m\u001b[0;34m.\u001b[0m\u001b[0mlinalg\u001b[0m\u001b[0;34m.\u001b[0m\u001b[0minv\u001b[0m\u001b[0;34m(\u001b[0m\u001b[0msig\u001b[0m\u001b[0;34m)\u001b[0m\u001b[0;34m\u001b[0m\u001b[0;34m\u001b[0m\u001b[0m\n\u001b[1;32m     53\u001b[0m \u001b[0;34m\u001b[0m\u001b[0m\n\u001b[0;32m---> 54\u001b[0;31m     \u001b[0mcoeff\u001b[0m \u001b[0;34m=\u001b[0m \u001b[0;36m2\u001b[0m \u001b[0;34m*\u001b[0m \u001b[0;34m(\u001b[0m\u001b[0mm0\u001b[0m\u001b[0;34m.\u001b[0m\u001b[0mT\u001b[0m\u001b[0;34m+\u001b[0m\u001b[0mm1\u001b[0m\u001b[0;34m.\u001b[0m\u001b[0mT\u001b[0m\u001b[0;34m)\u001b[0m\u001b[0;34m.\u001b[0m\u001b[0mdot\u001b[0m\u001b[0;34m(\u001b[0m\u001b[0msig_inv\u001b[0m\u001b[0;34m)\u001b[0m\u001b[0;34m\u001b[0m\u001b[0;34m\u001b[0m\u001b[0m\n\u001b[0m\u001b[1;32m     55\u001b[0m     \u001b[0mprint\u001b[0m\u001b[0;34m(\u001b[0m\u001b[0mcoeff\u001b[0m\u001b[0;34m.\u001b[0m\u001b[0mshape\u001b[0m\u001b[0;34m)\u001b[0m\u001b[0;34m\u001b[0m\u001b[0;34m\u001b[0m\u001b[0m\n\u001b[1;32m     56\u001b[0m     \u001b[0mX\u001b[0m \u001b[0;34m=\u001b[0m \u001b[0mnp\u001b[0m\u001b[0;34m.\u001b[0m\u001b[0mmatmul\u001b[0m\u001b[0;34m(\u001b[0m\u001b[0mm1\u001b[0m\u001b[0;34m.\u001b[0m\u001b[0mT\u001b[0m\u001b[0;34m,\u001b[0m \u001b[0mnp\u001b[0m\u001b[0;34m.\u001b[0m\u001b[0mmatmul\u001b[0m\u001b[0;34m(\u001b[0m\u001b[0msig_inv\u001b[0m\u001b[0;34m,\u001b[0m\u001b[0mm1\u001b[0m\u001b[0;34m)\u001b[0m\u001b[0;34m)\u001b[0m \u001b[0;34m-\u001b[0m \u001b[0mnp\u001b[0m\u001b[0;34m.\u001b[0m\u001b[0mmatmul\u001b[0m\u001b[0;34m(\u001b[0m\u001b[0mm0\u001b[0m\u001b[0;34m.\u001b[0m\u001b[0mT\u001b[0m\u001b[0;34m,\u001b[0m \u001b[0mnp\u001b[0m\u001b[0;34m.\u001b[0m\u001b[0mmatmul\u001b[0m\u001b[0;34m(\u001b[0m\u001b[0msig_inv\u001b[0m\u001b[0;34m,\u001b[0m\u001b[0mm0\u001b[0m\u001b[0;34m)\u001b[0m\u001b[0;34m)\u001b[0m\u001b[0;34m\u001b[0m\u001b[0;34m\u001b[0m\u001b[0m\n",
      "\u001b[0;31mValueError\u001b[0m: shapes (2,1) and (2,2) not aligned: 1 (dim 1) != 2 (dim 0)"
     ]
    }
   ],
   "source": [
    "x_in = np.genfromtxt('../ass1_data/q4x.dat')\n",
    "y_in_label = np.genfromtxt('../ass1_data/q4y.dat',delimiter=\",\",dtype=str)\n",
    "\n",
    "y_in = np.zeros(y_in_label.shape[0])\n",
    "for i in range(y_in_label.shape[0]):\n",
    "    y_in[i] = 0 if y_in_label[i] == \"Alaska\" else 1\n",
    "\n",
    "train(x_in, y_in)\n",
    "    \n",
    "# print(x_in.shape, y_in.shape)\n",
    "# print(x_in,y_in,y_in_label)\n",
    "# train(x_in, y_in)\n",
    "# y_pred = train(x_in, y_in)"
   ]
  }
 ],
 "metadata": {
  "kernelspec": {
   "display_name": "Python 3",
   "language": "python",
   "name": "python3"
  },
  "language_info": {
   "codemirror_mode": {
    "name": "ipython",
    "version": 3
   },
   "file_extension": ".py",
   "mimetype": "text/x-python",
   "name": "python",
   "nbconvert_exporter": "python",
   "pygments_lexer": "ipython3",
   "version": "3.6.8"
  }
 },
 "nbformat": 4,
 "nbformat_minor": 2
}
