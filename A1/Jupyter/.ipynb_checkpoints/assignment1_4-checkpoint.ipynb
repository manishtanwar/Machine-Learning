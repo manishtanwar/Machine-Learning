{
 "cells": [
  {
   "cell_type": "code",
   "execution_count": 53,
   "metadata": {},
   "outputs": [],
   "source": [
    "import numpy as np"
   ]
  },
  {
   "cell_type": "code",
   "execution_count": 54,
   "metadata": {},
   "outputs": [],
   "source": [
    "def train(X_in, Y):\n",
    "\n",
    "    \"\"\"\n",
    "    Input :\n",
    "\n",
    "    Ouput :\n",
    "\n",
    "    \"\"\"\n",
    "\n",
    "    n = X_in.shape[1]\n",
    "    m = X_in.shape[0]\n",
    "    \n",
    "    np.set_printoptions(precision=3,suppress=True)\n",
    "    \n",
    "    X = np.ones((m,n))\n",
    "    mean = np.zeros(m)\n",
    "    std = np.zeros(m)\n",
    "    for i in range(n):\n",
    "        mean[i] = X_in[:,i].mean()\n",
    "        std[i]  = np.std(X_in[:,i])\n",
    "        X[:,i] = (X_in[:,i] - mean[i])/std[i]\n",
    "\n",
    "    X_T = np.transpose(X)\n",
    "    theta = np.zeros(n)\n",
    "    \n",
    "    m0 = np.zeros(n)\n",
    "    m1 = np.zeros(n)\n",
    "    sig = np.zeros((n,n))\n",
    "    \n",
    "    X_T = np.transpose(X)\n",
    "    m0 = np.matmul(X_T, 1-Y) / \n",
    "    m1 = np.matmul(X_T, Y) /\n",
    "    "
   ]
  },
  {
   "cell_type": "code",
   "execution_count": 55,
   "metadata": {},
   "outputs": [
    {
     "name": "stdout",
     "output_type": "stream",
     "text": [
      "[[0. 0.]\n",
      " [0. 0.]]\n"
     ]
    }
   ],
   "source": [
    "x_in = np.genfromtxt('../ass1_data/q4x.dat',delimiter=\"  \")\n",
    "y_in_label = np.genfromtxt('../ass1_data/q4y.dat',delimiter=\",\",dtype=str)\n",
    "\n",
    "y_in = np.zeros(y_in_label.shape[0])\n",
    "for i in range(y_in_label.shape[0]):\n",
    "    y_in[i] = 0 if y_in_label[i] == \"Alaska\" else 1\n",
    "\n",
    "train(x_in, y_in)\n",
    "    \n",
    "# print(x_in.shape, y_in.shape)\n",
    "# print(x_in,y_in,y_in_label)\n",
    "# train(x_in, y_in)\n",
    "# y_pred = train(x_in, y_in)"
   ]
  }
 ],
 "metadata": {
  "kernelspec": {
   "display_name": "Python 3",
   "language": "python",
   "name": "python3"
  },
  "language_info": {
   "codemirror_mode": {
    "name": "ipython",
    "version": 3
   },
   "file_extension": ".py",
   "mimetype": "text/x-python",
   "name": "python",
   "nbconvert_exporter": "python",
   "pygments_lexer": "ipython3",
   "version": "3.6.8"
  }
 },
 "nbformat": 4,
 "nbformat_minor": 2
}
