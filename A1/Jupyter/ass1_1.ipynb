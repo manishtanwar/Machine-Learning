{
 "cells": [
  {
   "cell_type": "code",
   "execution_count": 33,
   "metadata": {},
   "outputs": [],
   "source": [
    "import numpy as np"
   ]
  },
  {
   "cell_type": "code",
   "execution_count": 34,
   "metadata": {},
   "outputs": [],
   "source": [
    "x = np.genfromtxt('ass1_data/linearX.csv',delimiter=',')\n",
    "y = np.genfromtxt('ass1_data/linearY.csv',delimiter=',')"
   ]
  },
  {
   "cell_type": "code",
   "execution_count": 35,
   "metadata": {},
   "outputs": [],
   "source": [
    "theta = np.zeros(2)"
   ]
  },
  {
   "cell_type": "code",
   "execution_count": 36,
   "metadata": {},
   "outputs": [],
   "source": [
    "x1 = np.copy(x)\n",
    "x = (x-x.mean())/np.std(x)\n",
    "rate = 0.01\n",
    "n = 2\n",
    "m = x.size\n",
    "# print(x)"
   ]
  },
  {
   "cell_type": "code",
   "execution_count": 37,
   "metadata": {
    "scrolled": true
   },
   "outputs": [
    {
     "name": "stdout",
     "output_type": "stream",
     "text": [
      "[0.9966201 0.0013402]\n",
      "[0.9966201 0.0013402]\n",
      "2\n"
     ]
    }
   ],
   "source": [
    "itr = 0\n",
    "while True:\n",
    "    itr+=1\n",
    "    diff = 0.\n",
    "    theta1 = np.copy(theta)\n",
    "    for j in range(2):\n",
    "        amt = 0.\n",
    "        for i in range(m):\n",
    "            amt += (y[i] - (theta1[1]*x[i]+theta1[0]))*(-(x[i] if j == 1 else 1.))\n",
    "#         print(amt)\n",
    "        theta[j] = theta1[j] - (rate * amt);\n",
    "        diff = max(diff, abs((rate*amt)))\n",
    "    print(theta)\n",
    "    if(diff < 1e-8):\n",
    "        break\n",
    "print(itr)"
   ]
  },
  {
   "cell_type": "code",
   "execution_count": 38,
   "metadata": {},
   "outputs": [],
   "source": [
    "y1 = theta[1]*x + theta[0]"
   ]
  },
  {
   "cell_type": "code",
   "execution_count": 39,
   "metadata": {},
   "outputs": [
    {
     "data": {
      "image/png": "[encoded data removed]",
      "text/plain": [
       "<Figure size 432x288 with 1 Axes>"
      ]
     },
     "metadata": {
      "needs_background": "light"
     },
     "output_type": "display_data"
    },
    {
     "data": {
      "text/plain": [
       "(array([0.99523, 0.99007, 0.99769, 0.99386, 0.99508, 0.9963 , 1.0032 ,\n",
       "        0.99768, 0.99584, 0.99609, 0.99774, 1.0003 , 0.99694, 0.99965,\n",
       "        0.99549, 0.99364, 0.99378, 0.99379, 0.99524, 0.9988 , 0.99733,\n",
       "        0.9966 , 0.9955 , 0.99471, 0.99354, 0.99786, 0.9965 , 0.9988 ,\n",
       "        0.9964 , 0.99713, 0.9985 , 0.99565, 0.99578, 0.9976 , 1.0014 ,\n",
       "        0.99685, 0.99648, 0.99472, 0.99914, 0.99408, 0.9974 , 1.0002 ,\n",
       "        0.99402, 0.9966 , 0.99402, 1.0029 , 0.99718, 0.9986 , 0.9952 ,\n",
       "        0.9952 , 0.9972 , 0.9976 , 0.9968 , 0.9978 , 0.9951 , 0.99629,\n",
       "        0.99656, 0.999  , 0.99836, 0.99396, 0.99387, 1.0004 , 0.9972 ,\n",
       "        0.9972 , 0.99546, 0.9978 , 0.99596, 0.99572, 0.9992 , 0.99544,\n",
       "        0.99747, 0.99668, 0.9962 , 0.99346, 0.99514, 0.99476, 1.001  ,\n",
       "        0.9961 , 0.99598, 0.99608, 0.9966 , 0.99732, 0.9962 , 0.99546,\n",
       "        0.99738, 0.99456, 0.9966 , 0.99553, 0.9984 , 0.9952 , 0.997  ,\n",
       "        0.99586, 0.9984 , 0.99542, 0.99655, 0.9962 , 0.9976 , 0.99464,\n",
       "        0.9983 , 0.9967 ]),\n",
       " array([ 0.60239429, -0.03598116,  0.60239429,  0.19615537, -0.67435661,\n",
       "        -0.21008356,  4.37461286, -0.44222008, -0.61632248, -0.50025422,\n",
       "         1.18273561,  1.99521345, -0.55828835,  1.12470147,  0.48632602,\n",
       "        -0.09401529, -1.42880033, -1.0225614 , -0.79042488,  1.356838  ,\n",
       "         0.2541895 , -0.38418595, -1.0225614 , -1.54486859,  0.48632602,\n",
       "         0.77649668, -0.32615182,  2.22734998, -0.15204943, -0.38418595,\n",
       "         1.58897453,  1.24076974, -1.08059553, -0.21008356,  3.27196435,\n",
       "        -0.03598116, -0.79042488, -0.79042488, -0.61632248,  0.13812123,\n",
       "        -0.38418595,  1.06666734, -1.13862967, -0.61632248, -1.54486859,\n",
       "         1.5309404 , -0.26811769,  0.48632602,  0.66042842, -0.84845901,\n",
       "        -0.50025422, -0.03598116, -0.15204943, -0.09401529, -0.61632248,\n",
       "        -0.61632248, -0.26811769,  0.60239429,  0.54436016, -0.09401529,\n",
       "        -0.84845901,  2.22734998, -0.90649314, -0.55828835,  0.42829189,\n",
       "        -0.32615182, -0.21008356, -1.1966638 ,  1.47290627, -0.84845901,\n",
       "         0.0800871 , -0.09401529, -0.55828835, -1.42880033, -0.96452727,\n",
       "        -0.32615182,  1.00863321, -0.61632248,  1.41487213, -0.55828835,\n",
       "        -1.08059553, -0.90649314, -0.21008356, -0.50025422,  0.71846255,\n",
       "         0.2541895 , -0.21008356, -0.73239074, -0.15204943,  0.37025776,\n",
       "         0.89256495, -0.50025422,  0.71846255,  0.02205297, -0.84845901,\n",
       "        -0.15204943,  1.24076974, -1.13862967, -0.44222008, -0.44222008]))"
      ]
     },
     "execution_count": 39,
     "metadata": {},
     "output_type": "execute_result"
    }
   ],
   "source": [
    "import matplotlib.pyplot as plt\n",
    "plt.plot(x1,y,'ro',color='blue')\n",
    "plt.plot(x1,y1,color='red')\n",
    "# plt.scatter(x,y,color='red')\n",
    "# plt.scatter(x,y1,color='blue')\n",
    "plt.show()\n",
    "theta\n",
    "y,x"
   ]
  },
  {
   "cell_type": "code",
   "execution_count": 41,
   "metadata": {},
   "outputs": [
    {
     "ename": "NameError",
     "evalue": "name 'array' is not defined",
     "output_type": "error",
     "traceback": [
      "\u001b[0;31m---------------------------------------------------------------------------\u001b[0m",
      "\u001b[0;31mNameError\u001b[0m                                 Traceback (most recent call last)",
      "\u001b[0;32m<ipython-input-41-c06195ec84e7>\u001b[0m in \u001b[0;36m<module>\u001b[0;34m\u001b[0m\n\u001b[0;32m----> 1\u001b[0;31m \u001b[0marray\u001b[0m\u001b[0;34m(\u001b[0m\u001b[0;34m[\u001b[0m\u001b[0;36m0.9966201\u001b[0m\u001b[0;34m,\u001b[0m \u001b[0;36m0.0013402\u001b[0m\u001b[0;34m]\u001b[0m\u001b[0;34m)\u001b[0m\u001b[0;34m\u001b[0m\u001b[0;34m\u001b[0m\u001b[0m\n\u001b[0m",
      "\u001b[0;31mNameError\u001b[0m: name 'array' is not defined"
     ]
    }
   ],
   "source": []
  },
  {
   "cell_type": "code",
   "execution_count": 43,
   "metadata": {},
   "outputs": [
    {
     "name": "stdout",
     "output_type": "stream",
     "text": [
      "[[ 1.  4.]\n",
      " [ 9. 16.]]\n"
     ]
    }
   ],
   "source": [
    "A = np.array([[1., 2.], [3., 4.]])\n",
    "print(np.square(A))"
   ]
  },
  {
   "cell_type": "code",
   "execution_count": null,
   "metadata": {},
   "outputs": [],
   "source": []
  }
 ],
 "metadata": {
  "kernelspec": {
   "display_name": "Python 3",
   "language": "python",
   "name": "python3"
  },
  "language_info": {
   "codemirror_mode": {
    "name": "ipython",
    "version": 3
   },
   "file_extension": ".py",
   "mimetype": "text/x-python",
   "name": "python",
   "nbconvert_exporter": "python",
   "pygments_lexer": "ipython3",
   "version": "3.6.8"
  }
 },
 "nbformat": 4,
 "nbformat_minor": 2
}
