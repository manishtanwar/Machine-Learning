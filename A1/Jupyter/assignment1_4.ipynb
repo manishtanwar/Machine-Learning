{
 "cells": [
  {
   "cell_type": "code",
   "execution_count": 461,
   "metadata": {},
   "outputs": [],
   "source": [
    "import numpy as np"
   ]
  },
  {
   "cell_type": "code",
   "execution_count": 462,
   "metadata": {},
   "outputs": [],
   "source": [
    "def train_lin(X_in, Y):\n",
    "\n",
    "    \"\"\"\n",
    "    Input :\n",
    "\n",
    "    Ouput :\n",
    "\n",
    "    \"\"\"\n",
    "    \n",
    "    n = X_in.shape[1]\n",
    "    m = X_in.shape[0]\n",
    "    one_cnt = np.sum(Y)\n",
    "    \n",
    "    np.set_printoptions(precision=3,suppress=True)\n",
    "    \n",
    "    X = np.ones((m,n))\n",
    "    mean = np.zeros(m)\n",
    "    std = np.zeros(m)\n",
    "    for i in range(n):\n",
    "        mean[i] = X_in[:,i].mean()\n",
    "        std[i]  = np.std(X_in[:,i])\n",
    "        X[:,i] = X_in[:,i]\n",
    "#         X[:,i] = (X_in[:,i] - mean[i])/std[i]\n",
    "\n",
    "    X_T = np.transpose(X)\n",
    "    theta = np.zeros(n)\n",
    "    \n",
    "    m0 = np.zeros((1,n))\n",
    "    m1 = np.zeros((1,n))\n",
    "    \n",
    "    Y_mat = np.zeros((100,1))\n",
    "    Y_mat[:,0] = np.copy(Y)\n",
    "    \n",
    "    m0 = np.matmul((1-Y_mat).T, X) / (m - one_cnt)\n",
    "    m1 = np.matmul(Y_mat.T, X) / one_cnt\n",
    "\n",
    "    W = X - np.matmul((1-Y_mat), m0) - np.matmul(Y_mat, m1)\n",
    "    \n",
    "    sig = 1/m * np.matmul(W.T, W)\n",
    "    sig_inv = np.linalg.inv(sig)\n",
    "    \n",
    "    coeff = 2 * (m1-m0).dot(sig_inv)\n",
    "    intercept = np.matmul(m1, np.matmul(sig_inv,m1.T)) - np.matmul(m0, np.matmul(sig_inv,m0.T))\n",
    "    X1_boundary = (-(coeff[0][0] * (X_in[:,0])) + intercept[0][0]) / coeff[0][1]\n",
    "    print(X_in[:,1])\n",
    "    print(X1_boundary)\n",
    "    import matplotlib.pyplot as plt\n",
    "    plt.scatter(X_in[:,0],X_in[:,1],c=Y)\n",
    "    plt.plot(X_in[:,0],X1_boundary,color='red')\n",
    "    plt.show()"
   ]
  },
  {
   "cell_type": "code",
   "execution_count": 463,
   "metadata": {},
   "outputs": [],
   "source": [
    "def train_qau(X_in, Y):\n",
    "\n",
    "    \"\"\"\n",
    "    Input :\n",
    "\n",
    "    Ouput :\n",
    "\n",
    "    \"\"\"\n",
    "    \n",
    "    n = X_in.shape[1]\n",
    "    m = X_in.shape[0]\n",
    "    one_cnt = np.sum(Y)\n",
    "    \n",
    "    np.set_printoptions(precision=3,suppress=True)\n",
    "    \n",
    "    X = np.ones((m,n))\n",
    "    mean = np.zeros(m)\n",
    "    std = np.zeros(m)\n",
    "    for i in range(n):\n",
    "        mean[i] = X_in[:,i].mean()\n",
    "        std[i]  = np.std(X_in[:,i])\n",
    "        X[:,i] = X_in[:,i] #(X_in[:,i] - mean[i])/std[i]\n",
    "\n",
    "#     X_T = np.transpose(X)\n",
    "#     theta = np.zeros(n)\n",
    "    \n",
    "#     m0 = np.zeros((1,n))\n",
    "#     m1 = np.zeros((1,n))\n",
    "#      M0 = np.zeros(X.shape)\n",
    "#     M1 = np.zeros(X.shape)\n",
    "#     M0[:,] = m0\n",
    "#     print(m0)\n",
    "#     print(M0)\n",
    "#     W = X - np.matmul(1, m0)\n",
    "    \n",
    "#     Y_mat = np.zeros((100,1))\n",
    "#     Y_mat[:,0] = np.copy(Y)\n",
    "    \n",
    "#     m0 = np.matmul((1-Y_mat).T, X) / (m - one_cnt)\n",
    "#     m1 = np.matmul(Y_mat.T, X) / one_cnt\n",
    "    \n",
    "#     W = \n",
    "#     W = X - np.matmul((1-Y_mat), m0) - np.matmul(Y_mat, m1)\n",
    "    \n",
    "#     sig = 1/m * np.matmul(W.T, W)\n",
    "#     sig_inv = np.linalg.inv(sig)\n",
    "    \n",
    "#     coeff = 2 * (m1-m0).dot(sig_inv)\n",
    "#     intercept = np.matmul(m1, np.matmul(sig_inv,m1.T)) - np.matmul(m0, np.matmul(sig_inv,m0.T))\n",
    "#     intercept = intercept[0][0]\n",
    "    \n",
    "#     X1_boundary = (-(coeff[0][0] * (X_in[:,0])) + intercept) / coeff[0][1]\n",
    "#     print(X_in[:,1])\n",
    "#     print(X1_boundary)\n",
    "#     import matplotlib.pyplot as plt\n",
    "#     plt.scatter(X_in[:,0],X_in[:,1],c=Y)\n",
    "#     plt.plot(X_in[:,0],X1_boundary,color='red')\n",
    "#     plt.show()"
   ]
  },
  {
   "cell_type": "code",
   "execution_count": 464,
   "metadata": {},
   "outputs": [
    {
     "name": "stdout",
     "output_type": "stream",
     "text": [
      "[368. 355. 469. 506. 402. 423. 440. 489. 432. 403. 428. 372. 372. 420.\n",
      " 394. 407. 422. 423. 434. 474. 396. 470. 399. 429. 469. 444. 397. 442.\n",
      " 431. 381. 388. 403. 451. 453. 427. 411. 442. 426. 402. 397. 511. 469.\n",
      " 451. 474. 398. 433. 404. 481. 491. 480. 420. 371. 407. 381. 377. 389.\n",
      " 419. 345. 362. 345. 393. 330. 355. 386. 301. 397. 301. 438. 306. 383.\n",
      " 385. 337. 364. 376. 354. 383. 355. 345. 379. 369. 403. 354. 390. 349.\n",
      " 325. 344. 400. 403. 370. 355. 375. 383. 349. 373. 388. 339. 341. 346.\n",
      " 352. 339.]\n",
      "[373.621 430.47  366.206 319.244 351.376 321.715 339.017 395.866 301.942\n",
      " 351.376 388.451 410.696 410.696 376.093 383.508 363.734 381.036 418.111\n",
      " 366.206 400.809 388.451 353.847 314.3   358.791 356.319 316.772 376.093\n",
      " 368.677 309.357 398.338 366.206 405.753 316.772 311.829 237.678 341.489\n",
      " 294.527 341.489 321.715 279.697 314.3   331.602 289.583 356.319 304.414\n",
      " 341.489 334.074 351.376 339.017 321.715 425.526 472.488 549.111 482.375\n",
      " 516.979 413.168 492.262 430.47  452.715 462.602 474.96  373.621 440.356\n",
      " 526.866 482.375 484.847 482.375 442.828 408.224 472.488 329.13  465.073\n",
      " 410.696 465.073 390.923 437.885 395.866 418.111 398.338 403.281 484.847\n",
      " 477.432 487.319 489.79  376.093 395.866 423.055 462.602 509.564 465.073\n",
      " 435.413 423.055 410.696 462.602 452.715 477.432 413.168 415.64  484.847\n",
      " 373.621]\n"
     ]
    },
    {
     "data": {
      "image/png": "[encoded data removed]",
      "text/plain": [
       "<Figure size 432x288 with 1 Axes>"
      ]
     },
     "metadata": {
      "needs_background": "light"
     },
     "output_type": "display_data"
    }
   ],
   "source": [
    "x_in = np.genfromtxt('../ass1_data/q4x.dat')\n",
    "y_in_label = np.genfromtxt('../ass1_data/q4y.dat',delimiter=\",\",dtype=str)\n",
    "\n",
    "y_in = np.zeros(y_in_label.shape[0])\n",
    "for i in range(y_in_label.shape[0]):\n",
    "    y_in[i] = 0 if y_in_label[i] == \"Alaska\" else 1\n",
    "\n",
    "train_lin(x_in, y_in)\n",
    "# train_qua(x_in, y_in)\n",
    "    \n",
    "# print(x_in.shape, y_in.shape)\n",
    "# print(x_in,y_in,y_in_label)\n",
    "# train(x_in, y_in)\n",
    "# y_pred = train(x_in, y_in)"
   ]
  }
 ],
 "metadata": {
  "kernelspec": {
   "display_name": "Python 3",
   "language": "python",
   "name": "python3"
  },
  "language_info": {
   "codemirror_mode": {
    "name": "ipython",
    "version": 3
   },
   "file_extension": ".py",
   "mimetype": "text/x-python",
   "name": "python",
   "nbconvert_exporter": "python",
   "pygments_lexer": "ipython3",
   "version": "3.6.8"
  }
 },
 "nbformat": 4,
 "nbformat_minor": 2
}
