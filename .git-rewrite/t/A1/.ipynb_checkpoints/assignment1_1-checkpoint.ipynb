{
 "cells": [
  {
   "cell_type": "code",
   "execution_count": 32,
   "metadata": {},
   "outputs": [],
   "source": [
    "import numpy as np"
   ]
  },
  {
   "cell_type": "code",
   "execution_count": 33,
   "metadata": {},
   "outputs": [],
   "source": [
    "x_in = np.genfromtxt('ass1_data/linearX.csv',delimiter=',')\n",
    "y = np.genfromtxt('ass1_data/linearY.csv',delimiter=',')"
   ]
  },
  {
   "cell_type": "code",
   "execution_count": 34,
   "metadata": {},
   "outputs": [],
   "source": [
    "theta = np.zeros(2)"
   ]
  },
  {
   "cell_type": "code",
   "execution_count": 35,
   "metadata": {},
   "outputs": [],
   "source": [
    "# x_un : unnormalized data\n",
    "x_un = np.copy(x_in)\n",
    "mean = x_in.mean()\n",
    "std_dev = np.std(x_in)\n",
    "x_in = (x_in - x_in.mean())/np.std(x_in)\n",
    "rate = 0.5\n",
    "n = 2\n",
    "m = x_in.size"
   ]
  },
  {
   "cell_type": "code",
   "execution_count": 36,
   "metadata": {},
   "outputs": [],
   "source": [
    "# x_in = x_in[:,np.newaxis]\n",
    "X = np.ones((m,n))\n",
    "X[:,0] = x_in\n",
    "# print(X)"
   ]
  },
  {
   "cell_type": "code",
   "execution_count": 37,
   "metadata": {},
   "outputs": [
    {
     "name": "stdout",
     "output_type": "stream",
     "text": [
      "35\n"
     ]
    }
   ],
   "source": [
    "X_T = np.transpose(X)\n",
    "iter = 0\n",
    "while True:\n",
    "    iter+=1\n",
    "    delta_J = (np.matmul(np.matmul(X_T,X), theta) - np.matmul(X_T,y))\n",
    "    theta = theta - (rate/m) * delta_J\n",
    "#     print(delta_J)\n",
    "    max_change = max(abs(delta_J[0]),abs(delta_J[1]))\n",
    "#     print(max_change)\n",
    "    if(max_change < 1e-8):\n",
    "        break\n",
    "print(iter)"
   ]
  },
  {
   "cell_type": "code",
   "execution_count": 38,
   "metadata": {},
   "outputs": [],
   "source": [
    "y_pred = np.matmul(X,theta)"
   ]
  },
  {
   "cell_type": "code",
   "execution_count": 39,
   "metadata": {},
   "outputs": [
    {
     "data": {
      "text/plain": [
       "array([0.0013402, 0.9966201])"
      ]
     },
     "execution_count": 39,
     "metadata": {},
     "output_type": "execute_result"
    }
   ],
   "source": [
    "theta"
   ]
  },
  {
   "cell_type": "code",
   "execution_count": 40,
   "metadata": {},
   "outputs": [
    {
     "data": {
      "text/plain": [
       "(2,)"
      ]
     },
     "execution_count": 40,
     "metadata": {},
     "output_type": "execute_result"
    }
   ],
   "source": [
    "theta_req = np.array([theta[0]/std_dev, theta[1] - theta[0] * (mean / std_dev)])"
   ]
  },
  {
   "cell_type": "code",
   "execution_count": 42,
   "metadata": {},
   "outputs": [
    {
     "data": {
      "image/png": "[encoded data removed]",
      "text/plain": [
       "<Figure size 432x288 with 1 Axes>"
      ]
     },
     "metadata": {
      "needs_background": "light"
     },
     "output_type": "display_data"
    }
   ],
   "source": [
    "import matplotlib.pyplot as plt\n",
    "plt.plot(x_un,y,'ro',color='blue')\n",
    "plt.plot(x_un,y_pred,color='red')\n",
    "# plt.scatter(x,y,color='red')\n",
    "# plt.scatter(x,y1,color='blue')\n",
    "plt.show()"
   ]
  },
  {
   "cell_type": "code",
   "execution_count": 43,
   "metadata": {},
   "outputs": [
    {
     "data": {
      "text/plain": [
       "[<matplotlib.lines.Line2D at 0x7f9e3453b1d0>]"
      ]
     },
     "execution_count": 43,
     "metadata": {},
     "output_type": "execute_result"
    },
    {
     "data": {
      "image/png": "[encoded data removed]",
      "text/plain": [
       "<Figure size 432x288 with 1 Axes>"
      ]
     },
     "metadata": {
      "needs_background": "light"
     },
     "output_type": "display_data"
    }
   ],
   "source": [
    "X_un = np.ones((m,n))\n",
    "X_un[:,0] = x_un\n",
    "y_pred1 = np.matmul(X_un,theta_req)\n",
    "plt.plot(x_un,y,'ro',color='blue')\n",
    "plt.plot(x_un,y_pred1,color='red')"
   ]
  }
 ],
 "metadata": {
  "kernelspec": {
   "display_name": "Python 3",
   "language": "python",
   "name": "python3"
  },
  "language_info": {
   "codemirror_mode": {
    "name": "ipython",
    "version": 3
   },
   "file_extension": ".py",
   "mimetype": "text/x-python",
   "name": "python",
   "nbconvert_exporter": "python",
   "pygments_lexer": "ipython3",
   "version": "3.6.8"
  }
 },
 "nbformat": 4,
 "nbformat_minor": 2
}
